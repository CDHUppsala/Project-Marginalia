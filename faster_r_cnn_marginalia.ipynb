{
  "nbformat": 4,
  "nbformat_minor": 0,
  "metadata": {
    "colab": {
      "provenance": []
    },
    "kernelspec": {
      "name": "python3",
      "display_name": "Python 3"
    },
    "language_info": {
      "name": "python"
    },
    "accelerator": "GPU",
    "gpuClass": "standard",
    "widgets": {
      "application/vnd.jupyter.widget-state+json": {
        "58973b3448c840e69667713157cd4f26": {
          "model_module": "@jupyter-widgets/controls",
          "model_name": "HBoxModel",
          "model_module_version": "1.5.0",
          "state": {
            "_dom_classes": [],
            "_model_module": "@jupyter-widgets/controls",
            "_model_module_version": "1.5.0",
            "_model_name": "HBoxModel",
            "_view_count": null,
            "_view_module": "@jupyter-widgets/controls",
            "_view_module_version": "1.5.0",
            "_view_name": "HBoxView",
            "box_style": "",
            "children": [
              "IPY_MODEL_b0175a4f1faa49ee966687e67ce6dc54",
              "IPY_MODEL_0858c51103564ef4a90f0cbdc0624869",
              "IPY_MODEL_9d573ccd75b940398f8c93ed36a8ad85"
            ],
            "layout": "IPY_MODEL_8e396eb9bf4341d5bc277808b8fab290"
          }
        },
        "b0175a4f1faa49ee966687e67ce6dc54": {
          "model_module": "@jupyter-widgets/controls",
          "model_name": "HTMLModel",
          "model_module_version": "1.5.0",
          "state": {
            "_dom_classes": [],
            "_model_module": "@jupyter-widgets/controls",
            "_model_module_version": "1.5.0",
            "_model_name": "HTMLModel",
            "_view_count": null,
            "_view_module": "@jupyter-widgets/controls",
            "_view_module_version": "1.5.0",
            "_view_name": "HTMLView",
            "description": "",
            "description_tooltip": null,
            "layout": "IPY_MODEL_501be1982cc1480bb8dae168380337a4",
            "placeholder": "​",
            "style": "IPY_MODEL_b90c4c8f6ee8455ca7f88b94fd5abcd7",
            "value": "100%"
          }
        },
        "0858c51103564ef4a90f0cbdc0624869": {
          "model_module": "@jupyter-widgets/controls",
          "model_name": "FloatProgressModel",
          "model_module_version": "1.5.0",
          "state": {
            "_dom_classes": [],
            "_model_module": "@jupyter-widgets/controls",
            "_model_module_version": "1.5.0",
            "_model_name": "FloatProgressModel",
            "_view_count": null,
            "_view_module": "@jupyter-widgets/controls",
            "_view_module_version": "1.5.0",
            "_view_name": "ProgressView",
            "bar_style": "success",
            "description": "",
            "description_tooltip": null,
            "layout": "IPY_MODEL_c6960408e39e4d0e851def69929d4edd",
            "max": 167502836,
            "min": 0,
            "orientation": "horizontal",
            "style": "IPY_MODEL_14c5fb3adde34c85aa409312957734e3",
            "value": 167502836
          }
        },
        "9d573ccd75b940398f8c93ed36a8ad85": {
          "model_module": "@jupyter-widgets/controls",
          "model_name": "HTMLModel",
          "model_module_version": "1.5.0",
          "state": {
            "_dom_classes": [],
            "_model_module": "@jupyter-widgets/controls",
            "_model_module_version": "1.5.0",
            "_model_name": "HTMLModel",
            "_view_count": null,
            "_view_module": "@jupyter-widgets/controls",
            "_view_module_version": "1.5.0",
            "_view_name": "HTMLView",
            "description": "",
            "description_tooltip": null,
            "layout": "IPY_MODEL_9d6fa634f8424e099a813653b5c2ee2b",
            "placeholder": "​",
            "style": "IPY_MODEL_49ef59fefb8c40839cc804939f6ddefd",
            "value": " 160M/160M [00:02&lt;00:00, 58.9MB/s]"
          }
        },
        "8e396eb9bf4341d5bc277808b8fab290": {
          "model_module": "@jupyter-widgets/base",
          "model_name": "LayoutModel",
          "model_module_version": "1.2.0",
          "state": {
            "_model_module": "@jupyter-widgets/base",
            "_model_module_version": "1.2.0",
            "_model_name": "LayoutModel",
            "_view_count": null,
            "_view_module": "@jupyter-widgets/base",
            "_view_module_version": "1.2.0",
            "_view_name": "LayoutView",
            "align_content": null,
            "align_items": null,
            "align_self": null,
            "border": null,
            "bottom": null,
            "display": null,
            "flex": null,
            "flex_flow": null,
            "grid_area": null,
            "grid_auto_columns": null,
            "grid_auto_flow": null,
            "grid_auto_rows": null,
            "grid_column": null,
            "grid_gap": null,
            "grid_row": null,
            "grid_template_areas": null,
            "grid_template_columns": null,
            "grid_template_rows": null,
            "height": null,
            "justify_content": null,
            "justify_items": null,
            "left": null,
            "margin": null,
            "max_height": null,
            "max_width": null,
            "min_height": null,
            "min_width": null,
            "object_fit": null,
            "object_position": null,
            "order": null,
            "overflow": null,
            "overflow_x": null,
            "overflow_y": null,
            "padding": null,
            "right": null,
            "top": null,
            "visibility": null,
            "width": null
          }
        },
        "501be1982cc1480bb8dae168380337a4": {
          "model_module": "@jupyter-widgets/base",
          "model_name": "LayoutModel",
          "model_module_version": "1.2.0",
          "state": {
            "_model_module": "@jupyter-widgets/base",
            "_model_module_version": "1.2.0",
            "_model_name": "LayoutModel",
            "_view_count": null,
            "_view_module": "@jupyter-widgets/base",
            "_view_module_version": "1.2.0",
            "_view_name": "LayoutView",
            "align_content": null,
            "align_items": null,
            "align_self": null,
            "border": null,
            "bottom": null,
            "display": null,
            "flex": null,
            "flex_flow": null,
            "grid_area": null,
            "grid_auto_columns": null,
            "grid_auto_flow": null,
            "grid_auto_rows": null,
            "grid_column": null,
            "grid_gap": null,
            "grid_row": null,
            "grid_template_areas": null,
            "grid_template_columns": null,
            "grid_template_rows": null,
            "height": null,
            "justify_content": null,
            "justify_items": null,
            "left": null,
            "margin": null,
            "max_height": null,
            "max_width": null,
            "min_height": null,
            "min_width": null,
            "object_fit": null,
            "object_position": null,
            "order": null,
            "overflow": null,
            "overflow_x": null,
            "overflow_y": null,
            "padding": null,
            "right": null,
            "top": null,
            "visibility": null,
            "width": null
          }
        },
        "b90c4c8f6ee8455ca7f88b94fd5abcd7": {
          "model_module": "@jupyter-widgets/controls",
          "model_name": "DescriptionStyleModel",
          "model_module_version": "1.5.0",
          "state": {
            "_model_module": "@jupyter-widgets/controls",
            "_model_module_version": "1.5.0",
            "_model_name": "DescriptionStyleModel",
            "_view_count": null,
            "_view_module": "@jupyter-widgets/base",
            "_view_module_version": "1.2.0",
            "_view_name": "StyleView",
            "description_width": ""
          }
        },
        "c6960408e39e4d0e851def69929d4edd": {
          "model_module": "@jupyter-widgets/base",
          "model_name": "LayoutModel",
          "model_module_version": "1.2.0",
          "state": {
            "_model_module": "@jupyter-widgets/base",
            "_model_module_version": "1.2.0",
            "_model_name": "LayoutModel",
            "_view_count": null,
            "_view_module": "@jupyter-widgets/base",
            "_view_module_version": "1.2.0",
            "_view_name": "LayoutView",
            "align_content": null,
            "align_items": null,
            "align_self": null,
            "border": null,
            "bottom": null,
            "display": null,
            "flex": null,
            "flex_flow": null,
            "grid_area": null,
            "grid_auto_columns": null,
            "grid_auto_flow": null,
            "grid_auto_rows": null,
            "grid_column": null,
            "grid_gap": null,
            "grid_row": null,
            "grid_template_areas": null,
            "grid_template_columns": null,
            "grid_template_rows": null,
            "height": null,
            "justify_content": null,
            "justify_items": null,
            "left": null,
            "margin": null,
            "max_height": null,
            "max_width": null,
            "min_height": null,
            "min_width": null,
            "object_fit": null,
            "object_position": null,
            "order": null,
            "overflow": null,
            "overflow_x": null,
            "overflow_y": null,
            "padding": null,
            "right": null,
            "top": null,
            "visibility": null,
            "width": null
          }
        },
        "14c5fb3adde34c85aa409312957734e3": {
          "model_module": "@jupyter-widgets/controls",
          "model_name": "ProgressStyleModel",
          "model_module_version": "1.5.0",
          "state": {
            "_model_module": "@jupyter-widgets/controls",
            "_model_module_version": "1.5.0",
            "_model_name": "ProgressStyleModel",
            "_view_count": null,
            "_view_module": "@jupyter-widgets/base",
            "_view_module_version": "1.2.0",
            "_view_name": "StyleView",
            "bar_color": null,
            "description_width": ""
          }
        },
        "9d6fa634f8424e099a813653b5c2ee2b": {
          "model_module": "@jupyter-widgets/base",
          "model_name": "LayoutModel",
          "model_module_version": "1.2.0",
          "state": {
            "_model_module": "@jupyter-widgets/base",
            "_model_module_version": "1.2.0",
            "_model_name": "LayoutModel",
            "_view_count": null,
            "_view_module": "@jupyter-widgets/base",
            "_view_module_version": "1.2.0",
            "_view_name": "LayoutView",
            "align_content": null,
            "align_items": null,
            "align_self": null,
            "border": null,
            "bottom": null,
            "display": null,
            "flex": null,
            "flex_flow": null,
            "grid_area": null,
            "grid_auto_columns": null,
            "grid_auto_flow": null,
            "grid_auto_rows": null,
            "grid_column": null,
            "grid_gap": null,
            "grid_row": null,
            "grid_template_areas": null,
            "grid_template_columns": null,
            "grid_template_rows": null,
            "height": null,
            "justify_content": null,
            "justify_items": null,
            "left": null,
            "margin": null,
            "max_height": null,
            "max_width": null,
            "min_height": null,
            "min_width": null,
            "object_fit": null,
            "object_position": null,
            "order": null,
            "overflow": null,
            "overflow_x": null,
            "overflow_y": null,
            "padding": null,
            "right": null,
            "top": null,
            "visibility": null,
            "width": null
          }
        },
        "49ef59fefb8c40839cc804939f6ddefd": {
          "model_module": "@jupyter-widgets/controls",
          "model_name": "DescriptionStyleModel",
          "model_module_version": "1.5.0",
          "state": {
            "_model_module": "@jupyter-widgets/controls",
            "_model_module_version": "1.5.0",
            "_model_name": "DescriptionStyleModel",
            "_view_count": null,
            "_view_module": "@jupyter-widgets/base",
            "_view_module_version": "1.2.0",
            "_view_name": "StyleView",
            "description_width": ""
          }
        }
      }
    }
  },
  "cells": [
    {
      "cell_type": "code",
      "execution_count": null,
      "metadata": {
        "id": "cmjuQL1JpaYi"
      },
      "outputs": [],
      "source": [
        "import torch\n",
        "import torchvision\n",
        "import pandas as pd\n",
        "import os\n",
        "import numpy as np\n",
        "from PIL import Image\n",
        "#import matplotlib.pyplot as plt\n",
        "import warnings\n",
        "warnings.filterwarnings('ignore')\n",
        "import cv2 as cv\n",
        "from torch.utils.data import Dataset, DataLoader\n",
        "from torchvision.models.detection.faster_rcnn import FastRCNNPredictor\n",
        "import torchvision.transforms as T"
      ]
    },
    {
      "cell_type": "code",
      "source": [
        "image_list = os.listdir('./data/')\n",
        "#image_list"
      ],
      "metadata": {
        "id": "uD28VBQ6qTJ8"
      },
      "execution_count": null,
      "outputs": []
    },
    {
      "cell_type": "code",
      "source": [
        "class MarginaliaDataset(torch.utils.data.Dataset):\n",
        "    def __init__(self, data):\n",
        "        self.data = data\n",
        "        self.n_samples = len(data)\n",
        "\n",
        "    def __getitem__(self, index):\n",
        "        img = self.data[index][\"data\"]\n",
        "        boxes = self.data[index][\"boxes\"]\n",
        "        labels = self.data[index][\"labels\"]\n",
        "        id = self.data[index][\"image_id\"]\n",
        "        target = {}\n",
        "        target['boxes'] = boxes\n",
        "        target['labels'] = labels\n",
        "        return img, target, id\n",
        "    \n",
        "    def __len__(self):\n",
        "        return self.n_samples"
      ],
      "metadata": {
        "id": "dYrOA7aJpvzm"
      },
      "execution_count": null,
      "outputs": []
    },
    {
      "cell_type": "code",
      "source": [
        "def preprocessing(imageID):\n",
        "    \"\"\"reads in image and returns preprocessed np array\"\"\"\n",
        "    img = cv.imread(f\"./data/{imageID}.png\")\n",
        "   # img = cv.cvtColor(img, cv.COLOR_BGR2GRAY)\n",
        "    img = img/255\n",
        "    img = torch.tensor(img, dtype=torch.float32)\n",
        "    img = img.permute(2,0,1) # change channel position\n",
        "    return img\n"
      ],
      "metadata": {
        "id": "pDXVRULxpxTJ"
      },
      "execution_count": null,
      "outputs": []
    },
    {
      "cell_type": "code",
      "source": [
        "def generate_data():\n",
        "    data = []\n",
        "    all_box_coordinates = []\n",
        "    #print(image_list)\n",
        "    for image in image_list:\n",
        "        image_dict = {}\n",
        "        #id = image.removesuffix('.png') \n",
        "        if image.endswith(\".png\"): \n",
        "            id = image[:-4]\n",
        "        else: \n",
        "            continue\n",
        "\n",
        "        sub_df = boxes[boxes[\"number\"] == int(id)]\n",
        "        num_boxes = len(sub_df)\n",
        "        box_coordinates = []\n",
        "        for i in range(num_boxes):\n",
        "            sub_sub_df = sub_df.iloc[i]\n",
        "            xmin_scaled = int(sub_sub_df[\"xmin_scaled\"])\n",
        "            ymin_scaled = int(sub_sub_df[\"ymin_scaled\"])\n",
        "            xmax_scaled = int(sub_sub_df[\"xmax_scaled\"])\n",
        "            ymax_scaled = int(sub_sub_df[\"ymax_scaled\"])\n",
        "            box_coordinates.append(torch.tensor([xmin_scaled, ymin_scaled, xmax_scaled, ymax_scaled], dtype=torch.int32))\n",
        "        if num_boxes > 1:\n",
        "            box_coordinates = torch.stack(box_coordinates, axis=0)\n",
        "        else:\n",
        "            box_coordinates = box_coordinates[0]\n",
        "            box_coordinates = box_coordinates.view(1,4)\n",
        "\n",
        "        all_box_coordinates.append(box_coordinates)\n",
        "        \n",
        "        image_data = preprocessing(id) # returns list\n",
        "\n",
        "        # labels\n",
        "        labels = torch.ones(num_boxes, dtype=torch.int64)\n",
        "\n",
        "        # stack it to dict\n",
        "        image_dict[\"data\"] = image_data\n",
        "        image_dict[\"boxes\"] = box_coordinates\n",
        "        image_dict[\"labels\"] = labels\n",
        "        image_dict[\"image_id\"] = id\n",
        "\n",
        "        data.append(image_dict)\n",
        "    return data"
      ],
      "metadata": {
        "id": "tC2t7X7epyeU"
      },
      "execution_count": null,
      "outputs": []
    },
    {
      "cell_type": "code",
      "source": [
        "\n",
        "def collate_fn(batch):\n",
        "    return tuple(zip(*batch))\n"
      ],
      "metadata": {
        "id": "BwjIw0mQpz9-"
      },
      "execution_count": null,
      "outputs": []
    },
    {
      "cell_type": "code",
      "source": [
        "boxes = pd.read_csv(\"rescaled_data.csv\")\n",
        "boxes = boxes[[\"number\", \"xmin_scaled\", \"ymin_scaled\", \"xmax_scaled\", \"ymax_scaled\"]]\n",
        "\n",
        "image_list = os.listdir('./data/')\n",
        "\n",
        "data = generate_data()"
      ],
      "metadata": {
        "id": "Pgm12w53tWsj"
      },
      "execution_count": null,
      "outputs": []
    },
    {
      "cell_type": "code",
      "source": [
        "print(len(data))"
      ],
      "metadata": {
        "colab": {
          "base_uri": "https://localhost:8080/"
        },
        "id": "EtLkKkH83cra",
        "outputId": "398e6032-134b-437c-b661-d70ab64812d0"
      },
      "execution_count": null,
      "outputs": [
        {
          "output_type": "stream",
          "name": "stdout",
          "text": [
            "513\n"
          ]
        }
      ]
    },
    {
      "cell_type": "code",
      "source": [
        "train_data = data[:500]\n",
        "test_data = data[500:520]\n",
        "\n",
        "train_dataset = MarginaliaDataset(train_data)\n",
        "test_dataset = MarginaliaDataset(test_data)\n",
        "\n",
        "train_dl = DataLoader(train_dataset, batch_size=4, num_workers=4, collate_fn=collate_fn, pin_memory = True)\n",
        "val_dl = DataLoader(test_dataset, batch_size=4, collate_fn=collate_fn, pin_memory = True)\n",
        "\n",
        "model = torchvision.models.detection.fasterrcnn_resnet50_fpn(pretrained=True)\n",
        "\n",
        "device = torch.device('cuda') if torch.cuda.is_available() else torch.device('cpu')\n",
        "num_classes = 2  # 1 class (marginalia) + background\n",
        "in_features = model.roi_heads.box_predictor.cls_score.in_features\n",
        "model.roi_heads.box_predictor = FastRCNNPredictor(in_features, num_classes)\n",
        "model=model.to(device)\n",
        "\n",
        "params = [p for p in model.parameters() if p.requires_grad]\n",
        "optimizer = torch.optim.SGD(params, lr=0.001, momentum=0.9, weight_decay=0.0005)\n",
        "num_epochs = 5\n",
        "\n",
        "model.to(device)\n",
        "for epoch in range(num_epochs):\n",
        "    epoch_loss = 0\n",
        "    for images, targets, _ in train_dl:\n",
        "        optimizer.zero_grad()\n",
        "        images = list(image.to(device) for image in images)\n",
        "        targets = [{k: v.to(device) for k, v in t.items()} for t in targets]\n",
        "\n",
        "        loss_dict = model(images, targets)\n",
        "#         print(loss_dict)\n",
        "        losses = sum(loss for loss in loss_dict.values())\n",
        "        epoch_loss += losses.item()\n",
        "\n",
        "        losses.backward()\n",
        "        optimizer.step()\n",
        "    print(f\"loss for epoch {epoch}: {epoch_loss / len(train_dl)}\")"
      ],
      "metadata": {
        "id": "EM0aA32Np02o",
        "colab": {
          "base_uri": "https://localhost:8080/",
          "height": 179,
          "referenced_widgets": [
            "58973b3448c840e69667713157cd4f26",
            "b0175a4f1faa49ee966687e67ce6dc54",
            "0858c51103564ef4a90f0cbdc0624869",
            "9d573ccd75b940398f8c93ed36a8ad85",
            "8e396eb9bf4341d5bc277808b8fab290",
            "501be1982cc1480bb8dae168380337a4",
            "b90c4c8f6ee8455ca7f88b94fd5abcd7",
            "c6960408e39e4d0e851def69929d4edd",
            "14c5fb3adde34c85aa409312957734e3",
            "9d6fa634f8424e099a813653b5c2ee2b",
            "49ef59fefb8c40839cc804939f6ddefd"
          ]
        },
        "outputId": "0cd3e236-8779-4293-a47a-af4b97a1d2ee"
      },
      "execution_count": null,
      "outputs": [
        {
          "output_type": "stream",
          "name": "stderr",
          "text": [
            "Downloading: \"https://download.pytorch.org/models/fasterrcnn_resnet50_fpn_coco-258fb6c6.pth\" to /root/.cache/torch/hub/checkpoints/fasterrcnn_resnet50_fpn_coco-258fb6c6.pth\n"
          ]
        },
        {
          "output_type": "display_data",
          "data": {
            "text/plain": [
              "  0%|          | 0.00/160M [00:00<?, ?B/s]"
            ],
            "application/vnd.jupyter.widget-view+json": {
              "version_major": 2,
              "version_minor": 0,
              "model_id": "58973b3448c840e69667713157cd4f26"
            }
          },
          "metadata": {}
        },
        {
          "output_type": "stream",
          "name": "stdout",
          "text": [
            "loss for epoch 0: 0.4919731457233429\n",
            "loss for epoch 1: 0.3927506911754608\n",
            "loss for epoch 2: 0.34403543615341187\n",
            "loss for epoch 3: 0.3155714858174324\n",
            "loss for epoch 4: 0.29589018678665163\n"
          ]
        }
      ]
    },
    {
      "cell_type": "code",
      "source": [
        "results=[]\n",
        "detection_threshold = 0.1 # the lower, the less we keep\n",
        "model.eval()\n",
        "model.to(device)\n",
        "\n",
        "for images, targets, id in val_dl:    \n",
        "\n",
        "    images = list(image.to(device) for image in images)\n",
        "    targets = [{k: v.to(device) for k, v in t.items()} for t in targets]\n",
        "    outputs = model(images)\n",
        "\n",
        "    for i, image in enumerate(images):\n",
        "\n",
        "        boxes = outputs[i]['boxes']\n",
        "        scores = outputs[i]['scores']\n",
        "        labels = outputs[i]['labels']\n",
        "\n",
        "        keep = torchvision.ops.nms(boxes, scores, detection_threshold) # the lower, the less we keep\n",
        "        boxes = boxes[keep]\n",
        "        scores = scores[keep]\n",
        "        image_id = id[i]\n",
        "    \n",
        "        op = (id[i], boxes, scores)\n",
        "        results.append(op)\n",
        "\n",
        "# print(results)"
      ],
      "metadata": {
        "id": "hnUvW9BCp3-I"
      },
      "execution_count": null,
      "outputs": []
    },
    {
      "cell_type": "code",
      "source": [
        "def visualize_prediction(imageID, tensor_bounding_box):\n",
        "    tensor_bounding_box = tensor_bounding_box.cpu().detach().numpy()\n",
        "    image = cv.imread(f\"data/{imageID}.png\")\n",
        "    image = np.asarray(image)\n",
        "    for box in tensor_bounding_box:\n",
        "        x_min = box[0]\n",
        "        y_min = box[1]\n",
        "        x_max = box[2]\n",
        "        y_max = box[3]\n",
        "        \n",
        "        color = (0, 0, 255)\n",
        "        start_point = (int(x_min), int(y_min))\n",
        "        end_point = (int(x_max), int(y_max))\n",
        "        thickness = 2\n",
        "        cv.rectangle(image, start_point, end_point, color, thickness)\n",
        "    cv.imwrite(f'./results/prediction_{imageID}.png', image)"
      ],
      "metadata": {
        "id": "zQiteqOBxZyt"
      },
      "execution_count": null,
      "outputs": []
    },
    {
      "cell_type": "code",
      "source": [
        "# visualize_prediction(184423, results[0][1])"
      ],
      "metadata": {
        "id": "D09mGMR26GfY"
      },
      "execution_count": null,
      "outputs": []
    },
    {
      "cell_type": "code",
      "source": [
        "for result in results:\n",
        "  id = result[0]\n",
        "  boxes = result[1]\n",
        "  visualize_prediction(id, boxes)"
      ],
      "metadata": {
        "colab": {
          "base_uri": "https://localhost:8080/"
        },
        "id": "XTq4VVF_-XIL",
        "outputId": "63fad841-e8e9-4bbb-d015-612b80a315b3"
      },
      "execution_count": null,
      "outputs": [
        {
          "output_type": "stream",
          "name": "stdout",
          "text": [
            "60.453262\n",
            "88.122314\n",
            "83.78\n",
            "348.8205\n",
            "151.51982\n",
            "387.17358\n",
            "205.75401\n",
            "266.56982\n",
            "150.90802\n",
            "219.92976\n",
            "186.408\n",
            "67.07389\n",
            "298.26456\n",
            "47.800663\n",
            "326.4887\n",
            "438.77963\n",
            "441.77823\n",
            "447.08698\n",
            "391.73105\n",
            "0.0\n",
            "190.64165\n",
            "391.06906\n",
            "108.2879\n",
            "397.49762\n",
            "392.7065\n",
            "0.0\n",
            "0.0\n",
            "379.15863\n",
            "323.119\n",
            "309.61215\n",
            "28.859343\n",
            "304.3553\n",
            "0.0\n",
            "222.29736\n",
            "0.0\n",
            "306.56863\n",
            "29.292852\n",
            "30.104889\n",
            "129.15248\n",
            "436.52866\n",
            "83.22048\n",
            "111.397095\n",
            "125.50752\n",
            "430.20377\n",
            "475.2548\n",
            "114.87758\n",
            "430.99478\n",
            "490.85776\n",
            "434.38147\n",
            "131.74506\n",
            "249.31404\n",
            "486.62692\n",
            "270.016\n",
            "272.47885\n",
            "251.65714\n",
            "69.00178\n",
            "298.59607\n",
            "59.614204\n",
            "69.0322\n",
            "63.58235\n",
            "310.95673\n",
            "0.5416653\n",
            "103.17096\n",
            "37.035397\n",
            "128.03517\n",
            "163.42209\n",
            "157.37466\n",
            "185.63475\n",
            "306.39703\n",
            "287.3221\n",
            "192.84843\n",
            "271.06256\n",
            "8.593128\n",
            "131.39307\n",
            "291.4219\n",
            "422.70767\n",
            "167.52316\n",
            "40.725933\n",
            "228.66705\n",
            "123.299835\n",
            "123.460754\n",
            "150.1233\n",
            "438.85358\n",
            "112.84903\n",
            "426.0348\n",
            "354.1249\n",
            "190.64333\n",
            "145.24966\n",
            "191.46797\n",
            "351.60336\n",
            "210.9639\n",
            "193.28632\n",
            "367.8495\n",
            "286.94907\n",
            "133.19489\n",
            "242.20863\n",
            "80.254906\n",
            "329.40384\n",
            "172.62808\n",
            "144.2146\n",
            "315.03537\n",
            "14.549049\n",
            "253.483\n",
            "166.87564\n",
            "192.85951\n",
            "381.81836\n",
            "373.3766\n",
            "29.941458\n",
            "384.70767\n",
            "39.4448\n",
            "300.61533\n",
            "271.6613\n",
            "374.9201\n",
            "340.34036\n",
            "54.719524\n",
            "385.38538\n",
            "380.01456\n",
            "53.34351\n",
            "0.5495661\n",
            "91.10132\n",
            "89.951805\n",
            "98.14456\n",
            "288.38348\n",
            "225.91206\n",
            "290.87567\n",
            "365.99423\n",
            "295.58124\n",
            "0.0\n",
            "111.18418\n",
            "99.02312\n",
            "222.64099\n",
            "317.3032\n",
            "127.15515\n",
            "136.40839\n",
            "275.87665\n",
            "96.68125\n",
            "90.264984\n",
            "419.77228\n",
            "44.45517\n",
            "271.4922\n",
            "150.22096\n",
            "398.39313\n",
            "252.44106\n",
            "351.60263\n",
            "320.22485\n",
            "56.958588\n",
            "333.40082\n",
            "409.40973\n",
            "23.563618\n"
          ]
        }
      ]
    },
    {
      "cell_type": "code",
      "source": [],
      "metadata": {
        "id": "XuM2WMRI0LGP"
      },
      "execution_count": null,
      "outputs": []
    }
  ]
}