{
 "cells": [
  {
   "cell_type": "code",
   "execution_count": 7,
   "metadata": {},
   "outputs": [],
   "source": [
    "import os, json\n",
    "import pandas as pd\n",
    "import numpy as np\n",
    "from PIL import Image\n",
    "import cv2 as cv\n",
    "import matplotlib.pyplot as plt\n",
    "import math\n",
    "from matplotlib import cm\n"
   ]
  },
  {
   "cell_type": "code",
   "execution_count": 8,
   "metadata": {},
   "outputs": [
    {
     "data": {
      "text/html": [
       "<div>\n",
       "<style scoped>\n",
       "    .dataframe tbody tr th:only-of-type {\n",
       "        vertical-align: middle;\n",
       "    }\n",
       "\n",
       "    .dataframe tbody tr th {\n",
       "        vertical-align: top;\n",
       "    }\n",
       "\n",
       "    .dataframe thead th {\n",
       "        text-align: right;\n",
       "    }\n",
       "</style>\n",
       "<table border=\"1\" class=\"dataframe\">\n",
       "  <thead>\n",
       "    <tr style=\"text-align: right;\">\n",
       "      <th></th>\n",
       "      <th>number</th>\n",
       "      <th>jsonname</th>\n",
       "      <th>photoname</th>\n",
       "      <th>width</th>\n",
       "      <th>height</th>\n",
       "      <th>class</th>\n",
       "      <th>xmin</th>\n",
       "      <th>ymin</th>\n",
       "      <th>xmax</th>\n",
       "      <th>ymax</th>\n",
       "    </tr>\n",
       "  </thead>\n",
       "  <tbody>\n",
       "    <tr>\n",
       "      <th>0</th>\n",
       "      <td>189279</td>\n",
       "      <td>/Users/imchengliang/Downloads/DS-Project/json-...</td>\n",
       "      <td>/Users/imchengliang/Downloads/DS-Project/photo...</td>\n",
       "      <td>3343</td>\n",
       "      <td>4157</td>\n",
       "      <td>m</td>\n",
       "      <td>633.645161</td>\n",
       "      <td>3258.064516</td>\n",
       "      <td>2585.258065</td>\n",
       "      <td>3745.161290</td>\n",
       "    </tr>\n",
       "    <tr>\n",
       "      <th>1</th>\n",
       "      <td>184298</td>\n",
       "      <td>/Users/imchengliang/Downloads/DS-Project/json-...</td>\n",
       "      <td>/Users/imchengliang/Downloads/DS-Project/photo...</td>\n",
       "      <td>3678</td>\n",
       "      <td>4806</td>\n",
       "      <td>m</td>\n",
       "      <td>133.594595</td>\n",
       "      <td>1810.810811</td>\n",
       "      <td>2825.486486</td>\n",
       "      <td>2072.972973</td>\n",
       "    </tr>\n",
       "    <tr>\n",
       "      <th>2</th>\n",
       "      <td>184332</td>\n",
       "      <td>/Users/imchengliang/Downloads/DS-Project/json-...</td>\n",
       "      <td>/Users/imchengliang/Downloads/DS-Project/photo...</td>\n",
       "      <td>3582</td>\n",
       "      <td>4776</td>\n",
       "      <td>m</td>\n",
       "      <td>2647.000000</td>\n",
       "      <td>194.000000</td>\n",
       "      <td>2873.315789</td>\n",
       "      <td>399.263158</td>\n",
       "    </tr>\n",
       "    <tr>\n",
       "      <th>3</th>\n",
       "      <td>184332</td>\n",
       "      <td>/Users/imchengliang/Downloads/DS-Project/json-...</td>\n",
       "      <td>/Users/imchengliang/Downloads/DS-Project/photo...</td>\n",
       "      <td>3582</td>\n",
       "      <td>4776</td>\n",
       "      <td>m</td>\n",
       "      <td>294.368421</td>\n",
       "      <td>3351.894737</td>\n",
       "      <td>452.263158</td>\n",
       "      <td>3562.421053</td>\n",
       "    </tr>\n",
       "    <tr>\n",
       "      <th>4</th>\n",
       "      <td>184332</td>\n",
       "      <td>/Users/imchengliang/Downloads/DS-Project/json-...</td>\n",
       "      <td>/Users/imchengliang/Downloads/DS-Project/photo...</td>\n",
       "      <td>3582</td>\n",
       "      <td>4776</td>\n",
       "      <td>m</td>\n",
       "      <td>1036.473684</td>\n",
       "      <td>3257.157895</td>\n",
       "      <td>1220.684211</td>\n",
       "      <td>3467.684211</td>\n",
       "    </tr>\n",
       "  </tbody>\n",
       "</table>\n",
       "</div>"
      ],
      "text/plain": [
       "   number                                           jsonname  \\\n",
       "0  189279  /Users/imchengliang/Downloads/DS-Project/json-...   \n",
       "1  184298  /Users/imchengliang/Downloads/DS-Project/json-...   \n",
       "2  184332  /Users/imchengliang/Downloads/DS-Project/json-...   \n",
       "3  184332  /Users/imchengliang/Downloads/DS-Project/json-...   \n",
       "4  184332  /Users/imchengliang/Downloads/DS-Project/json-...   \n",
       "\n",
       "                                           photoname  width  height class  \\\n",
       "0  /Users/imchengliang/Downloads/DS-Project/photo...   3343    4157     m   \n",
       "1  /Users/imchengliang/Downloads/DS-Project/photo...   3678    4806     m   \n",
       "2  /Users/imchengliang/Downloads/DS-Project/photo...   3582    4776     m   \n",
       "3  /Users/imchengliang/Downloads/DS-Project/photo...   3582    4776     m   \n",
       "4  /Users/imchengliang/Downloads/DS-Project/photo...   3582    4776     m   \n",
       "\n",
       "          xmin         ymin         xmax         ymax  \n",
       "0   633.645161  3258.064516  2585.258065  3745.161290  \n",
       "1   133.594595  1810.810811  2825.486486  2072.972973  \n",
       "2  2647.000000   194.000000  2873.315789   399.263158  \n",
       "3   294.368421  3351.894737   452.263158  3562.421053  \n",
       "4  1036.473684  3257.157895  1220.684211  3467.684211  "
      ]
     },
     "execution_count": 8,
     "metadata": {},
     "output_type": "execute_result"
    }
   ],
   "source": [
    "image_list = os.listdir(r\"C:\\Users\\adama\\OneDrive\\Dokument\\marginalia\\png\")\n",
    "image_path = r\"C:\\Users\\adama\\OneDrive\\Dokument\\marginalia\\png\"\n",
    "df = pd.read_csv(r\"C:\\Users\\adama\\OneDrive\\Dokument\\marginalia\\data.csv\")\n",
    "df.head()"
   ]
  },
  {
   "cell_type": "code",
   "execution_count": 9,
   "metadata": {},
   "outputs": [],
   "source": [
    "\n",
    "def png_to_np(path):\n",
    "    \"\"\"\n",
    "    Input: .png file\n",
    "    Output: np.array\n",
    "    \"\"\"\n",
    "    # read image\n",
    "    img = cv.imread(path)\n",
    "    # convert to grayscale \n",
    "    gray_scale_img = cv.cvtColor(img, cv.COLOR_BGR2GRAY)\n",
    "    blur = cv.GuassianBlur(gray_scale_img, (5,5), 0)\n",
    "    ret, threshold = cv.threshold(blur, 0, 255, cv.THRESH_BINARY+cv.THRESH_OTSU)\n",
    "    return threshold"
   ]
  },
  {
   "cell_type": "code",
   "execution_count": 10,
   "metadata": {},
   "outputs": [],
   "source": [
    "#reshape\n",
    "def down_scale_img(img):\n",
    "    new_width  = 500\n",
    "    new_height = 350\n",
    "\n",
    "\n",
    "    resized_image = cv.resize(img, (new_width, new_height))\n",
    "    return resized_image"
   ]
  },
  {
   "cell_type": "code",
   "execution_count": 11,
   "metadata": {},
   "outputs": [
    {
     "ename": "AttributeError",
     "evalue": "module 'cv2' has no attribute 'GuassianBlur'",
     "output_type": "error",
     "traceback": [
      "\u001b[1;31m---------------------------------------------------------------------------\u001b[0m",
      "\u001b[1;31mAttributeError\u001b[0m                            Traceback (most recent call last)",
      "Cell \u001b[1;32mIn [11], line 9\u001b[0m\n\u001b[0;32m      6\u001b[0m counter \u001b[39m=\u001b[39m \u001b[39m0\u001b[39m\n\u001b[0;32m      7\u001b[0m \u001b[39mfor\u001b[39;00m img \u001b[39min\u001b[39;00m image_list:\n\u001b[1;32m----> 9\u001b[0m     black_white \u001b[39m=\u001b[39m png_to_np(image_path \u001b[39m+\u001b[39;49m \u001b[39m\"\u001b[39;49m\u001b[39m/\u001b[39;49m\u001b[39m\"\u001b[39;49m \u001b[39m+\u001b[39;49m img)\n\u001b[0;32m     10\u001b[0m     old_size \u001b[39m=\u001b[39m black_white\u001b[39m.\u001b[39mshape\n\u001b[0;32m     11\u001b[0m     \u001b[39m#print(old_size)\u001b[39;00m\n",
      "Cell \u001b[1;32mIn [9], line 10\u001b[0m, in \u001b[0;36mpng_to_np\u001b[1;34m(path)\u001b[0m\n\u001b[0;32m      8\u001b[0m \u001b[39m# convert to grayscale \u001b[39;00m\n\u001b[0;32m      9\u001b[0m gray_scale_img \u001b[39m=\u001b[39m cv\u001b[39m.\u001b[39mcvtColor(img, cv\u001b[39m.\u001b[39mCOLOR_BGR2GRAY)\n\u001b[1;32m---> 10\u001b[0m blur \u001b[39m=\u001b[39m cv\u001b[39m.\u001b[39;49mGuassianBlur(gray_scale_img, (\u001b[39m5\u001b[39m,\u001b[39m5\u001b[39m), \u001b[39m0\u001b[39m)\n\u001b[0;32m     11\u001b[0m ret, threshold \u001b[39m=\u001b[39m cv\u001b[39m.\u001b[39mthreshold(blur, \u001b[39m0\u001b[39m, \u001b[39m255\u001b[39m, cv\u001b[39m.\u001b[39mTHRESH_BINARY\u001b[39m+\u001b[39mcv\u001b[39m.\u001b[39mTHRESH_OTSU)\n\u001b[0;32m     12\u001b[0m \u001b[39mreturn\u001b[39;00m threshold\n",
      "\u001b[1;31mAttributeError\u001b[0m: module 'cv2' has no attribute 'GuassianBlur'"
     ]
    }
   ],
   "source": [
    "import warnings\n",
    "warnings.filterwarnings('ignore')\n",
    "\n",
    "#scale down images as well as make them black/white\n",
    "new_df = pd.DataFrame()\n",
    "counter = 0\n",
    "for img in image_list:\n",
    "    \n",
    "    black_white = png_to_np(image_path + \"/\" + img)\n",
    "    old_size = black_white.shape\n",
    "    #print(old_size)\n",
    "    ratio_x = (500 / old_size[1])\n",
    "    ratio_y = (350 / old_size[0])\n",
    "    #print(ratio_y)\n",
    "    #get the coordinates of the old points\n",
    "    rows = df.loc[df['number'] == int(img[:-4])]\n",
    "    #new columns for reshaped coordinates\n",
    "    rows[\"xmin_scaled\"] = rows[\"xmin\"].apply(lambda x: x*ratio_x)\n",
    "    rows[\"xmax_scaled\"] = rows[\"xmax\"].apply(lambda x: x*ratio_x)\n",
    "    rows[\"ymin_scaled\"] = rows[\"ymin\"].apply(lambda x: x*ratio_y)\n",
    "    rows[\"ymax_scaled\"] = rows[\"ymax\"].apply(lambda x: x*ratio_y)\n",
    "    new_df = pd.concat([new_df, rows[[\"number\", \"xmin_scaled\", \"xmax_scaled\", \"ymin_scaled\", \"ymax_scaled\"]]])\n",
    "    #print(new_df.loc[df['number'] == int(img[:-4])])\n",
    "    down_scaled = down_scale_img(black_white)\n",
    "    im = Image.fromarray(down_scaled)\n",
    "    im.save(r\"C:\\Users\\adama\\OneDrive\\Dokument\\marginalia\\rescaled_images\" + \"/\" + str(img))\n",
    "    counter += 1\n",
    "    print(img)\n",
    "    if counter % 10 == 0:\n",
    "        print(\"Progress: \" + str(round(counter/len(image_list)*100, 2)) + \"%\")\n",
    "        \n",
    "\n",
    "\n"
   ]
  },
  {
   "cell_type": "code",
   "execution_count": null,
   "metadata": {},
   "outputs": [
    {
     "name": "stdout",
     "output_type": "stream",
     "text": [
      "      number  xmin_scaled  xmax_scaled  ymin_scaled  ymax_scaled\n",
      "1510  183786     0.880282    31.139965    12.730834    40.395915\n",
      "1511  183786   215.448944   229.753521    59.736989    70.019586\n",
      "1512  183786    69.102113   438.820423   281.792110   311.415781\n",
      "726   183844   143.107477   167.932243   155.801688   173.523207\n",
      "442   183845   313.582647   415.592039   233.120021   277.626939\n"
     ]
    }
   ],
   "source": [
    "print(new_df.head())\n"
   ]
  },
  {
   "cell_type": "code",
   "execution_count": null,
   "metadata": {},
   "outputs": [],
   "source": [
    "#save new df to csv\n",
    "new_df.to_csv(r\"C:\\Users\\adama\\OneDrive\\Dokument\\marginalia\\rescaled_data.csv\")"
   ]
  },
  {
   "cell_type": "code",
   "execution_count": null,
   "metadata": {},
   "outputs": [],
   "source": [
    "#see if boxes are correct\n",
    "image = cv.imread(r\"C:\\Users\\adama\\OneDrive\\Dokument\\marginalia\\rescaled_images\\183786.png\")\n",
    "window_name = 'Image'\n",
    "color = (255, 0, 0)\n",
    "start_point = (int(new_df.iloc[2][\"xmin_scaled\"]), int(new_df.iloc[2][\"ymin_scaled\"]))\n",
    "end_point = (int(new_df.iloc[2][\"xmax_scaled\"]), int(new_df.iloc[2][\"ymax_scaled\"]))\n",
    "thickness = 2\n",
    "\n",
    "image = cv.rectangle(image, start_point, end_point, color, thickness)\n",
    "cv.imshow(window_name, image) \n",
    "cv.waitKey(0)\n",
    "cv.destroyAllWindows()\n"
   ]
  }
 ],
 "metadata": {
  "kernelspec": {
   "display_name": "Python 3.10.8 64-bit (microsoft store)",
   "language": "python",
   "name": "python3"
  },
  "language_info": {
   "codemirror_mode": {
    "name": "ipython",
    "version": 3
   },
   "file_extension": ".py",
   "mimetype": "text/x-python",
   "name": "python",
   "nbconvert_exporter": "python",
   "pygments_lexer": "ipython3",
   "version": "3.10.8"
  },
  "orig_nbformat": 4,
  "vscode": {
   "interpreter": {
    "hash": "83db753e038c3c66573e124ba3720049306ebedcf4f4918ba228b822392eace4"
   }
  }
 },
 "nbformat": 4,
 "nbformat_minor": 2
}
